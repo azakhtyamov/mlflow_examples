{
 "cells": [
  {
   "cell_type": "code",
   "execution_count": 1,
   "metadata": {},
   "outputs": [],
   "source": [
    "%load_ext autoreload\n",
    "%autoreload 2"
   ]
  },
  {
   "cell_type": "code",
   "execution_count": 2,
   "metadata": {},
   "outputs": [],
   "source": [
    "import os\n",
    "import mlflow\n",
    "import pandas as pd\n",
    "from tqdm import tqdm\n",
    "from pprint import pprint"
   ]
  },
  {
   "cell_type": "code",
   "execution_count": 3,
   "metadata": {},
   "outputs": [],
   "source": [
    "import sys\n",
    "sys.path.append('../')"
   ]
  },
  {
   "cell_type": "code",
   "execution_count": 4,
   "metadata": {},
   "outputs": [],
   "source": [
    "from src.train_mnist import train"
   ]
  },
  {
   "cell_type": "code",
   "execution_count": 5,
   "metadata": {},
   "outputs": [],
   "source": [
    "TRACKING_URI = 'http://localhost:5000'\n",
    "EXPERIMENT_NAME = 'mnist'"
   ]
  },
  {
   "cell_type": "code",
   "execution_count": 6,
   "metadata": {},
   "outputs": [],
   "source": [
    "#os.system(\"conda env export > environment.yaml\")\n",
    "#autocommit(file_paths=['.'], message='Another version of random forest')"
   ]
  },
  {
   "cell_type": "code",
   "execution_count": 7,
   "metadata": {
    "scrolled": true
   },
   "outputs": [],
   "source": [
    "mlflow.set_tracking_uri(TRACKING_URI)\n",
    "mlflow.set_experiment(EXPERIMENT_NAME, )"
   ]
  },
  {
   "cell_type": "code",
   "execution_count": 8,
   "metadata": {},
   "outputs": [],
   "source": [
    "from sklearn import datasets\n",
    "from sklearn.model_selection import train_test_split\n",
    "from sklearn.model_selection import GridSearchCV\n",
    "from sklearn.metrics import classification_report\n",
    "from sklearn.ensemble import RandomForestClassifier\n",
    "\n",
    "\n",
    "digits = datasets.load_digits()\n",
    "\n",
    "n_samples = len(digits.images)\n",
    "X = digits.images.reshape((n_samples, -1))\n",
    "y = digits.target\n",
    "\n",
    "X_train, X_test, y_train, y_test = train_test_split(\n",
    "    X, y, test_size=0.8, random_state=0)"
   ]
  },
  {
   "cell_type": "code",
   "execution_count": 9,
   "metadata": {},
   "outputs": [],
   "source": [
    "cfg = {'n_estimators': 100, \n",
    "       'max_depth': 5}"
   ]
  },
  {
   "cell_type": "code",
   "execution_count": 10,
   "metadata": {},
   "outputs": [],
   "source": [
    "clf = RandomForestClassifier(**cfg, random_state=0)\n",
    "clf.fit(X_train, y_train)\n",
    "preds = clf.predict(X_test)"
   ]
  },
  {
   "cell_type": "code",
   "execution_count": 11,
   "metadata": {},
   "outputs": [],
   "source": [
    "scores = classification_report(y_test, preds, output_dict = True)"
   ]
  },
  {
   "cell_type": "code",
   "execution_count": 12,
   "metadata": {},
   "outputs": [
    {
     "name": "stdout",
     "output_type": "stream",
     "text": [
      "{'0_f1-score': 0.9898305084745763,\n",
      " '0_precision': 0.9864864864864865,\n",
      " '0_recall': 0.9931972789115646,\n",
      " '0_support': 147,\n",
      " '1_f1-score': 0.8732394366197184,\n",
      " '1_precision': 0.9051094890510949,\n",
      " '1_recall': 0.8435374149659864,\n",
      " '1_support': 147,\n",
      " '2_f1-score': 0.939929328621908,\n",
      " '2_precision': 0.9172413793103448,\n",
      " '2_recall': 0.9637681159420289,\n",
      " '2_support': 138,\n",
      " '3_f1-score': 0.9060402684563759,\n",
      " '3_precision': 0.9121621621621622,\n",
      " '3_recall': 0.9,\n",
      " '3_support': 150,\n",
      " '4_f1-score': 0.9600000000000001,\n",
      " '4_precision': 0.9565217391304348,\n",
      " '4_recall': 0.9635036496350365,\n",
      " '4_support': 137,\n",
      " '5_f1-score': 0.9302325581395349,\n",
      " '5_precision': 0.9459459459459459,\n",
      " '5_recall': 0.9150326797385621,\n",
      " '5_support': 153,\n",
      " '6_f1-score': 0.9647887323943661,\n",
      " '6_precision': 0.958041958041958,\n",
      " '6_recall': 0.9716312056737588,\n",
      " '6_support': 141,\n",
      " '7_f1-score': 0.9174917491749175,\n",
      " '7_precision': 0.852760736196319,\n",
      " '7_recall': 0.9928571428571429,\n",
      " '7_support': 140,\n",
      " '8_f1-score': 0.8372093023255813,\n",
      " '8_precision': 0.9642857142857143,\n",
      " '8_recall': 0.7397260273972602,\n",
      " '8_support': 146,\n",
      " '9_f1-score': 0.8406779661016949,\n",
      " '9_precision': 0.7948717948717948,\n",
      " '9_recall': 0.8920863309352518,\n",
      " '9_support': 139,\n",
      " 'accuracy': 0.9165507649513213,\n",
      " 'macro avg_f1-score': 0.9159439850308673,\n",
      " 'macro avg_precision': 0.9193427405482255,\n",
      " 'macro avg_recall': 0.9175339846056593,\n",
      " 'macro avg_support': 1438,\n",
      " 'weighted avg_f1-score': 0.9157885970252116,\n",
      " 'weighted avg_precision': 0.9200172211321768,\n",
      " 'weighted avg_recall': 0.9165507649513213,\n",
      " 'weighted avg_support': 1438}\n"
     ]
    }
   ],
   "source": [
    "df = pd.json_normalize(scores, sep='_')\n",
    "df = df.to_dict(orient='records')[0]\n",
    "pprint(df)"
   ]
  },
  {
   "cell_type": "code",
   "execution_count": 13,
   "metadata": {},
   "outputs": [],
   "source": [
    "with mlflow.start_run():\n",
    "    mlflow.log_params(cfg)\n",
    "    mlflow.log_metrics(df)"
   ]
  },
  {
   "cell_type": "code",
   "execution_count": 14,
   "metadata": {},
   "outputs": [
    {
     "name": "stderr",
     "output_type": "stream",
     "text": [
      "\r",
      "  0%|          | 0/2 [00:00<?, ?it/s]"
     ]
    },
    {
     "name": "stdout",
     "output_type": "stream",
     "text": [
      "0.940830985947341\n",
      "0.9400257324745269\n",
      "0.9348424267386152\n",
      "0.9400257324745269\n",
      "0.94222720162125\n",
      "0.9421449808096364\n",
      "0.9363122601662223\n",
      "0.9421449808096364\n",
      "0.94222720162125\n",
      "0.9421449808096364\n"
     ]
    },
    {
     "name": "stderr",
     "output_type": "stream",
     "text": [
      "\r",
      " 50%|█████     | 1/2 [00:02<00:02,  2.27s/it]"
     ]
    },
    {
     "name": "stdout",
     "output_type": "stream",
     "text": [
      "0.9363122601662223\n",
      "0.9421449808096364\n",
      "0.9448416988927469\n",
      "0.9421598910468012\n",
      "0.9477303692626858\n",
      "0.9421598910468012\n",
      "0.9469716555512907\n",
      "0.94144054088634\n",
      "0.9463475291449288\n",
      "0.94144054088634\n",
      "0.9469716555512907\n",
      "0.94144054088634\n",
      "0.9463475291449288\n"
     ]
    },
    {
     "name": "stderr",
     "output_type": "stream",
     "text": [
      "100%|██████████| 2/2 [00:07<00:00,  3.92s/it]"
     ]
    },
    {
     "name": "stdout",
     "output_type": "stream",
     "text": [
      "0.94144054088634\n"
     ]
    },
    {
     "name": "stderr",
     "output_type": "stream",
     "text": [
      "\n"
     ]
    }
   ],
   "source": [
    "for n_estimators in tqdm([50, 200]):\n",
    "    for max_depth in [10, 20, 50]:\n",
    "        for min_samples_split in [2, 4]:\n",
    "            for min_samples_leaf in [1, 2]:\n",
    "                cfg = {'n_estimators': n_estimators,\n",
    "                       'max_depth': max_depth,\n",
    "                       'min_samples_split': min_samples_split,\n",
    "                       'min_samples_leaf': min_samples_leaf,\n",
    "                      }\n",
    "                train(cfg)"
   ]
  },
  {
   "cell_type": "code",
   "execution_count": null,
   "metadata": {},
   "outputs": [],
   "source": []
  }
 ],
 "metadata": {
  "kernelspec": {
   "display_name": "Python 3",
   "language": "python",
   "name": "python3"
  },
  "language_info": {
   "codemirror_mode": {
    "name": "ipython",
    "version": 3
   },
   "file_extension": ".py",
   "mimetype": "text/x-python",
   "name": "python",
   "nbconvert_exporter": "python",
   "pygments_lexer": "ipython3",
   "version": "3.7.6"
  }
 },
 "nbformat": 4,
 "nbformat_minor": 4
}

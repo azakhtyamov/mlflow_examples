{
 "cells": [
  {
   "cell_type": "code",
   "execution_count": 1,
   "metadata": {},
   "outputs": [],
   "source": [
    "%load_ext autoreload\n",
    "%autoreload 2"
   ]
  },
  {
   "cell_type": "code",
   "execution_count": 2,
   "metadata": {},
   "outputs": [],
   "source": [
    "import mlflow\n",
    "import pandas as pd\n",
    "from tqdm import tqdm"
   ]
  },
  {
   "cell_type": "code",
   "execution_count": 3,
   "metadata": {},
   "outputs": [],
   "source": [
    "TRACKING_URI = 'http://localhost:5003'\n",
    "EXPERIMENT_NAME = 'first_try'"
   ]
  },
  {
   "cell_type": "code",
   "execution_count": 4,
   "metadata": {
    "scrolled": true
   },
   "outputs": [],
   "source": [
    "mlflow.set_tracking_uri(TRACKING_URI)\n",
    "mlflow.set_experiment(EXPERIMENT_NAME)"
   ]
  },
  {
   "cell_type": "code",
   "execution_count": 5,
   "metadata": {},
   "outputs": [],
   "source": [
    "from sklearn import datasets\n",
    "from sklearn.model_selection import train_test_split\n",
    "from sklearn.model_selection import GridSearchCV\n",
    "from sklearn.metrics import classification_report\n",
    "from sklearn.ensemble import RandomForestClassifier\n",
    "\n",
    "\n",
    "digits = datasets.load_digits()\n",
    "\n",
    "n_samples = len(digits.images)\n",
    "X = digits.images.reshape((n_samples, -1))\n",
    "y = digits.target\n",
    "\n",
    "X_train, X_test, y_train, y_test = train_test_split(\n",
    "    X, y, test_size=0.8, random_state=0)"
   ]
  },
  {
   "cell_type": "code",
   "execution_count": 6,
   "metadata": {},
   "outputs": [],
   "source": [
    "cfg = {'n_estimators': 100, \n",
    "       'max_depth': 5}"
   ]
  },
  {
   "cell_type": "code",
   "execution_count": 7,
   "metadata": {},
   "outputs": [],
   "source": [
    "clf = RandomForestClassifier(**cfg, random_state=0)\n",
    "clf.fit(X_train, y_train)\n",
    "preds = clf.predict(X_test)"
   ]
  },
  {
   "cell_type": "code",
   "execution_count": 8,
   "metadata": {},
   "outputs": [],
   "source": [
    "scores = classification_report(y_test, preds, output_dict = True)"
   ]
  },
  {
   "cell_type": "code",
   "execution_count": 9,
   "metadata": {},
   "outputs": [
    {
     "name": "stdout",
     "output_type": "stream",
     "text": [
      "{'accuracy': 0.9165507649513213, '0_precision': 0.9864864864864865, '0_recall': 0.9931972789115646, '0_f1-score': 0.9898305084745763, '0_support': 147, '1_precision': 0.9051094890510949, '1_recall': 0.8435374149659864, '1_f1-score': 0.8732394366197184, '1_support': 147, '2_precision': 0.9172413793103448, '2_recall': 0.9637681159420289, '2_f1-score': 0.939929328621908, '2_support': 138, '3_precision': 0.9121621621621622, '3_recall': 0.9, '3_f1-score': 0.9060402684563759, '3_support': 150, '4_precision': 0.9565217391304348, '4_recall': 0.9635036496350365, '4_f1-score': 0.9600000000000001, '4_support': 137, '5_precision': 0.9459459459459459, '5_recall': 0.9150326797385621, '5_f1-score': 0.9302325581395349, '5_support': 153, '6_precision': 0.958041958041958, '6_recall': 0.9716312056737588, '6_f1-score': 0.9647887323943661, '6_support': 141, '7_precision': 0.852760736196319, '7_recall': 0.9928571428571429, '7_f1-score': 0.9174917491749175, '7_support': 140, '8_precision': 0.9642857142857143, '8_recall': 0.7397260273972602, '8_f1-score': 0.8372093023255813, '8_support': 146, '9_precision': 0.7948717948717948, '9_recall': 0.8920863309352518, '9_f1-score': 0.8406779661016949, '9_support': 139, 'macro avg_precision': 0.9193427405482255, 'macro avg_recall': 0.9175339846056593, 'macro avg_f1-score': 0.9159439850308673, 'macro avg_support': 1438, 'weighted avg_precision': 0.9200172211321768, 'weighted avg_recall': 0.9165507649513213, 'weighted avg_f1-score': 0.9157885970252116, 'weighted avg_support': 1438}\n"
     ]
    }
   ],
   "source": [
    "df = pd.json_normalize(scores, sep='_')\n",
    "df = df.to_dict(orient='records')[0]\n",
    "print(df)"
   ]
  },
  {
   "cell_type": "code",
   "execution_count": 10,
   "metadata": {},
   "outputs": [],
   "source": [
    "with mlflow.start_run():\n",
    "    mlflow.log_params(cfg)\n",
    "    mlflow.log_metrics(df)"
   ]
  },
  {
   "cell_type": "code",
   "execution_count": 11,
   "metadata": {},
   "outputs": [],
   "source": [
    "import sys\n",
    "sys.path.append('../')"
   ]
  },
  {
   "cell_type": "code",
   "execution_count": 13,
   "metadata": {},
   "outputs": [],
   "source": [
    "from src.train_mnist import train"
   ]
  },
  {
   "cell_type": "code",
   "execution_count": 14,
   "metadata": {},
   "outputs": [
    {
     "name": "stderr",
     "output_type": "stream",
     "text": [
      "100%|██████████| 3/3 [01:06<00:00, 22.12s/it]\n"
     ]
    }
   ],
   "source": [
    "for n_estimators in tqdm([50, 200]):\n",
    "    for max_depth in [3, 5, 8, 13, 21]:\n",
    "        for min_samples_split in [2, 3, 5]:\n",
    "            for min_samples_leaf in [1, 2, 3]:\n",
    "                cfg = {'n_estimators': n_estimators,\n",
    "                       'max_depth': max_depth,\n",
    "                       'min_samples_split': min_samples_split,\n",
    "                       'min_samples_leaf': min_samples_leaf,\n",
    "                      }\n",
    "                train(cfg)"
   ]
  },
  {
   "cell_type": "code",
   "execution_count": null,
   "metadata": {},
   "outputs": [],
   "source": []
  }
 ],
 "metadata": {
  "kernelspec": {
   "display_name": "Python 3",
   "language": "python",
   "name": "python3"
  },
  "language_info": {
   "codemirror_mode": {
    "name": "ipython",
    "version": 3
   },
   "file_extension": ".py",
   "mimetype": "text/x-python",
   "name": "python",
   "nbconvert_exporter": "python",
   "pygments_lexer": "ipython3",
   "version": "3.7.6"
  }
 },
 "nbformat": 4,
 "nbformat_minor": 4
}
